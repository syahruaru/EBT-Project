{
 "cells": [
  {
   "cell_type": "markdown",
   "id": "0a6b1146",
   "metadata": {},
   "source": [
    "## Pengolahan Data Potensi Energi Surya Sebagai Sumber Listrik di Indonesia"
   ]
  },
  {
   "cell_type": "markdown",
   "id": "93624ed1",
   "metadata": {},
   "source": [
    "Import library yang dibutuhkan"
   ]
  },
  {
   "cell_type": "code",
   "execution_count": 2,
   "id": "d9af8c2e",
   "metadata": {},
   "outputs": [],
   "source": [
    "import pandas as pd"
   ]
  },
  {
   "cell_type": "markdown",
   "id": "e4b51c8d",
   "metadata": {},
   "source": [
    "### Membuat dataframe Potensi Energi Baru dan Terbarukan"
   ]
  },
  {
   "cell_type": "code",
   "execution_count": 7,
   "id": "758abe6f",
   "metadata": {},
   "outputs": [],
   "source": [
    "dataframe = pd.read_excel('xeratic data project - Data.xlsx', sheet_name='Potensi Energi Baru dan Terbaru')"
   ]
  },
  {
   "cell_type": "code",
   "execution_count": 16,
   "id": "481bdb9a",
   "metadata": {},
   "outputs": [],
   "source": [
    "df_sorted = dataframe.sort_values(by='No', ascending=True)"
   ]
  },
  {
   "cell_type": "code",
   "execution_count": 17,
   "id": "3f92002a",
   "metadata": {
    "scrolled": true
   },
   "outputs": [
    {
     "data": {
      "text/html": [
       "<div>\n",
       "<style scoped>\n",
       "    .dataframe tbody tr th:only-of-type {\n",
       "        vertical-align: middle;\n",
       "    }\n",
       "\n",
       "    .dataframe tbody tr th {\n",
       "        vertical-align: top;\n",
       "    }\n",
       "\n",
       "    .dataframe thead th {\n",
       "        text-align: right;\n",
       "    }\n",
       "</style>\n",
       "<table border=\"1\" class=\"dataframe\">\n",
       "  <thead>\n",
       "    <tr style=\"text-align: right;\">\n",
       "      <th></th>\n",
       "      <th>No</th>\n",
       "      <th>Jenis Energi</th>\n",
       "      <th>Potensi (MW)</th>\n",
       "      <th>Kapasitas Terpasang</th>\n",
       "      <th>Pemanfaatan</th>\n",
       "    </tr>\n",
       "  </thead>\n",
       "  <tbody>\n",
       "    <tr>\n",
       "      <th>0</th>\n",
       "      <td>1</td>\n",
       "      <td>Panas Bumi</td>\n",
       "      <td>29544</td>\n",
       "      <td>1438.5</td>\n",
       "      <td>0.04900</td>\n",
       "    </tr>\n",
       "    <tr>\n",
       "      <th>1</th>\n",
       "      <td>2</td>\n",
       "      <td>Hydro</td>\n",
       "      <td>75091</td>\n",
       "      <td>4826.7</td>\n",
       "      <td>0.06400</td>\n",
       "    </tr>\n",
       "    <tr>\n",
       "      <th>2</th>\n",
       "      <td>3</td>\n",
       "      <td>Mini-micro Hydro</td>\n",
       "      <td>19385</td>\n",
       "      <td>197.4</td>\n",
       "      <td>0.01000</td>\n",
       "    </tr>\n",
       "    <tr>\n",
       "      <th>3</th>\n",
       "      <td>4</td>\n",
       "      <td>Bioenergi</td>\n",
       "      <td>32654</td>\n",
       "      <td>167.1</td>\n",
       "      <td>0.05100</td>\n",
       "    </tr>\n",
       "    <tr>\n",
       "      <th>4</th>\n",
       "      <td>5</td>\n",
       "      <td>Surya</td>\n",
       "      <td>207898</td>\n",
       "      <td>78.5</td>\n",
       "      <td>0.00040</td>\n",
       "    </tr>\n",
       "    <tr>\n",
       "      <th>5</th>\n",
       "      <td>6</td>\n",
       "      <td>Angin</td>\n",
       "      <td>60647</td>\n",
       "      <td>3.1</td>\n",
       "      <td>0.00010</td>\n",
       "    </tr>\n",
       "    <tr>\n",
       "      <th>6</th>\n",
       "      <td>7</td>\n",
       "      <td>Gelombang Laut</td>\n",
       "      <td>17989</td>\n",
       "      <td>0.3</td>\n",
       "      <td>0.00002</td>\n",
       "    </tr>\n",
       "  </tbody>\n",
       "</table>\n",
       "</div>"
      ],
      "text/plain": [
       "   No      Jenis Energi  Potensi (MW)  Kapasitas Terpasang  Pemanfaatan\n",
       "0   1        Panas Bumi         29544               1438.5      0.04900\n",
       "1   2             Hydro         75091               4826.7      0.06400\n",
       "2   3  Mini-micro Hydro         19385                197.4      0.01000\n",
       "3   4         Bioenergi         32654                167.1      0.05100\n",
       "4   5             Surya        207898                 78.5      0.00040\n",
       "5   6             Angin         60647                  3.1      0.00010\n",
       "6   7    Gelombang Laut         17989                  0.3      0.00002"
      ]
     },
     "execution_count": 17,
     "metadata": {},
     "output_type": "execute_result"
    }
   ],
   "source": [
    "df_sorted"
   ]
  },
  {
   "cell_type": "code",
   "execution_count": 19,
   "id": "120e21a9",
   "metadata": {},
   "outputs": [],
   "source": [
    "# save data to csv\n",
    "#df_sorted.to_csv('Potensi Energi Baru dan Terbaru.csv', index=False)"
   ]
  },
  {
   "cell_type": "markdown",
   "id": "20eb961b",
   "metadata": {},
   "source": [
    "### Mengambil data rencana pengembangan PLTS"
   ]
  },
  {
   "cell_type": "code",
   "execution_count": 22,
   "id": "ee71508f",
   "metadata": {},
   "outputs": [],
   "source": [
    "df_rencanaPembangkit = pd.read_excel('xeratic data project - Data.xlsx', sheet_name= 'Rencana Pengembangan Pembangkit')"
   ]
  },
  {
   "cell_type": "code",
   "execution_count": 23,
   "id": "d4f26c52",
   "metadata": {},
   "outputs": [
    {
     "data": {
      "text/html": [
       "<div>\n",
       "<style scoped>\n",
       "    .dataframe tbody tr th:only-of-type {\n",
       "        vertical-align: middle;\n",
       "    }\n",
       "\n",
       "    .dataframe tbody tr th {\n",
       "        vertical-align: top;\n",
       "    }\n",
       "\n",
       "    .dataframe thead th {\n",
       "        text-align: right;\n",
       "    }\n",
       "</style>\n",
       "<table border=\"1\" class=\"dataframe\">\n",
       "  <thead>\n",
       "    <tr style=\"text-align: right;\">\n",
       "      <th></th>\n",
       "      <th>Column1</th>\n",
       "      <th>Column2</th>\n",
       "      <th>Column3</th>\n",
       "      <th>Column4</th>\n",
       "      <th>Column5</th>\n",
       "      <th>Column6</th>\n",
       "      <th>Column7</th>\n",
       "      <th>Column8</th>\n",
       "      <th>Column9</th>\n",
       "      <th>Column10</th>\n",
       "      <th>Column11</th>\n",
       "      <th>Column12</th>\n",
       "      <th>Column13</th>\n",
       "      <th>Column14</th>\n",
       "    </tr>\n",
       "  </thead>\n",
       "  <tbody>\n",
       "    <tr>\n",
       "      <th>0</th>\n",
       "      <td>No</td>\n",
       "      <td>Pembangkit - EBT</td>\n",
       "      <td>Satuan</td>\n",
       "      <td>2021</td>\n",
       "      <td>2022</td>\n",
       "      <td>2023</td>\n",
       "      <td>2024</td>\n",
       "      <td>2025</td>\n",
       "      <td>2026</td>\n",
       "      <td>2027</td>\n",
       "      <td>2028</td>\n",
       "      <td>2029</td>\n",
       "      <td>2030</td>\n",
       "      <td>Jumlah</td>\n",
       "    </tr>\n",
       "    <tr>\n",
       "      <th>1</th>\n",
       "      <td>1</td>\n",
       "      <td>PLTP</td>\n",
       "      <td>MW</td>\n",
       "      <td>136</td>\n",
       "      <td>108</td>\n",
       "      <td>190</td>\n",
       "      <td>141</td>\n",
       "      <td>870</td>\n",
       "      <td>290</td>\n",
       "      <td>123</td>\n",
       "      <td>450</td>\n",
       "      <td>240</td>\n",
       "      <td>808</td>\n",
       "      <td>3.355</td>\n",
       "    </tr>\n",
       "    <tr>\n",
       "      <th>2</th>\n",
       "      <td>2</td>\n",
       "      <td>PLTA</td>\n",
       "      <td>MW</td>\n",
       "      <td>400</td>\n",
       "      <td>53</td>\n",
       "      <td>132</td>\n",
       "      <td>87</td>\n",
       "      <td>2.478</td>\n",
       "      <td>327</td>\n",
       "      <td>456</td>\n",
       "      <td>1.611</td>\n",
       "      <td>1.778</td>\n",
       "      <td>1.950</td>\n",
       "      <td>9.272</td>\n",
       "    </tr>\n",
       "    <tr>\n",
       "      <th>3</th>\n",
       "      <td>3</td>\n",
       "      <td>PLTM</td>\n",
       "      <td>MW</td>\n",
       "      <td>144</td>\n",
       "      <td>154</td>\n",
       "      <td>277</td>\n",
       "      <td>289</td>\n",
       "      <td>189</td>\n",
       "      <td>43</td>\n",
       "      <td>-</td>\n",
       "      <td>2</td>\n",
       "      <td>13</td>\n",
       "      <td>6</td>\n",
       "      <td>1.118</td>\n",
       "    </tr>\n",
       "    <tr>\n",
       "      <th>4</th>\n",
       "      <td>4</td>\n",
       "      <td>PLT Surya</td>\n",
       "      <td>MWp</td>\n",
       "      <td>60</td>\n",
       "      <td>287</td>\n",
       "      <td>1.308</td>\n",
       "      <td>624</td>\n",
       "      <td>1.631</td>\n",
       "      <td>127</td>\n",
       "      <td>148</td>\n",
       "      <td>165</td>\n",
       "      <td>172</td>\n",
       "      <td>157</td>\n",
       "      <td>4.680</td>\n",
       "    </tr>\n",
       "    <tr>\n",
       "      <th>5</th>\n",
       "      <td>5</td>\n",
       "      <td>PLT Bayu</td>\n",
       "      <td>MW</td>\n",
       "      <td>-</td>\n",
       "      <td>2</td>\n",
       "      <td>33</td>\n",
       "      <td>337</td>\n",
       "      <td>155</td>\n",
       "      <td>70</td>\n",
       "      <td>-</td>\n",
       "      <td>-</td>\n",
       "      <td>-</td>\n",
       "      <td>-</td>\n",
       "      <td>597</td>\n",
       "    </tr>\n",
       "    <tr>\n",
       "      <th>6</th>\n",
       "      <td>6</td>\n",
       "      <td>PLT Biomasa/\\nSampah</td>\n",
       "      <td>MW</td>\n",
       "      <td>12</td>\n",
       "      <td>43</td>\n",
       "      <td>88</td>\n",
       "      <td>191</td>\n",
       "      <td>221</td>\n",
       "      <td>20</td>\n",
       "      <td>-</td>\n",
       "      <td>15</td>\n",
       "      <td>-</td>\n",
       "      <td>-</td>\n",
       "      <td>590</td>\n",
       "    </tr>\n",
       "    <tr>\n",
       "      <th>7</th>\n",
       "      <td>7</td>\n",
       "      <td>PLT EBT Base</td>\n",
       "      <td>MW</td>\n",
       "      <td>-</td>\n",
       "      <td>-</td>\n",
       "      <td>-</td>\n",
       "      <td>-</td>\n",
       "      <td>-</td>\n",
       "      <td>100</td>\n",
       "      <td>265</td>\n",
       "      <td>215</td>\n",
       "      <td>280</td>\n",
       "      <td>150</td>\n",
       "      <td>1.010</td>\n",
       "    </tr>\n",
       "    <tr>\n",
       "      <th>8</th>\n",
       "      <td>8</td>\n",
       "      <td>PLT EBT Peaker</td>\n",
       "      <td>MW</td>\n",
       "      <td>-</td>\n",
       "      <td>-</td>\n",
       "      <td>-</td>\n",
       "      <td>-</td>\n",
       "      <td>-</td>\n",
       "      <td>-</td>\n",
       "      <td>-</td>\n",
       "      <td>-</td>\n",
       "      <td>-</td>\n",
       "      <td>300</td>\n",
       "      <td>300</td>\n",
       "    </tr>\n",
       "    <tr>\n",
       "      <th>9</th>\n",
       "      <td>Jumlah</td>\n",
       "      <td>NaN</td>\n",
       "      <td>MW</td>\n",
       "      <td>752</td>\n",
       "      <td>648</td>\n",
       "      <td>2.028</td>\n",
       "      <td>1.670</td>\n",
       "      <td>5.544</td>\n",
       "      <td>978</td>\n",
       "      <td>991</td>\n",
       "      <td>2.458</td>\n",
       "      <td>2.484</td>\n",
       "      <td>3.370</td>\n",
       "      <td>20.923</td>\n",
       "    </tr>\n",
       "  </tbody>\n",
       "</table>\n",
       "</div>"
      ],
      "text/plain": [
       "  Column1               Column2 Column3 Column4 Column5 Column6 Column7  \\\n",
       "0      No      Pembangkit - EBT  Satuan    2021    2022    2023    2024   \n",
       "1       1                  PLTP      MW     136     108     190     141   \n",
       "2       2                  PLTA      MW     400      53     132      87   \n",
       "3       3                  PLTM      MW     144     154     277     289   \n",
       "4       4             PLT Surya     MWp      60     287   1.308     624   \n",
       "5       5              PLT Bayu      MW       -       2      33     337   \n",
       "6       6  PLT Biomasa/\\nSampah      MW      12      43      88     191   \n",
       "7       7          PLT EBT Base      MW       -       -       -       -   \n",
       "8       8        PLT EBT Peaker      MW       -       -       -       -   \n",
       "9  Jumlah                   NaN      MW     752     648   2.028   1.670   \n",
       "\n",
       "  Column8 Column9 Column10 Column11 Column12 Column13 Column14  \n",
       "0    2025    2026     2027     2028     2029     2030   Jumlah  \n",
       "1     870     290      123      450      240      808    3.355  \n",
       "2   2.478     327      456    1.611    1.778    1.950    9.272  \n",
       "3     189      43        -        2       13        6    1.118  \n",
       "4   1.631     127      148      165      172      157    4.680  \n",
       "5     155      70        -        -        -        -      597  \n",
       "6     221      20        -       15        -        -      590  \n",
       "7       -     100      265      215      280      150    1.010  \n",
       "8       -       -        -        -        -      300      300  \n",
       "9   5.544     978      991    2.458    2.484    3.370   20.923  "
      ]
     },
     "execution_count": 23,
     "metadata": {},
     "output_type": "execute_result"
    }
   ],
   "source": [
    "df_rencanaPembangkit"
   ]
  },
  {
   "cell_type": "code",
   "execution_count": 24,
   "id": "8467e4f1",
   "metadata": {},
   "outputs": [],
   "source": [
    "# Menghapus nama kolom (header) dan menjadikan baris pertama sebagai nama kolom baru\n",
    "df_rencanaPembangkit.columns = df_rencanaPembangkit.iloc[0]\n",
    "df_rencanaPembangkit = df_rencanaPembangkit[1:]"
   ]
  },
  {
   "cell_type": "code",
   "execution_count": 32,
   "id": "78f8e62c",
   "metadata": {},
   "outputs": [],
   "source": [
    "df_rencanaPembangkit = df_rencanaPembangkit.loc[df_rencanaPembangkit['Pembangkit - EBT'] == 'PLT Surya']"
   ]
  },
  {
   "cell_type": "code",
   "execution_count": 33,
   "id": "944ea25d",
   "metadata": {},
   "outputs": [
    {
     "data": {
      "text/html": [
       "<div>\n",
       "<style scoped>\n",
       "    .dataframe tbody tr th:only-of-type {\n",
       "        vertical-align: middle;\n",
       "    }\n",
       "\n",
       "    .dataframe tbody tr th {\n",
       "        vertical-align: top;\n",
       "    }\n",
       "\n",
       "    .dataframe thead th {\n",
       "        text-align: right;\n",
       "    }\n",
       "</style>\n",
       "<table border=\"1\" class=\"dataframe\">\n",
       "  <thead>\n",
       "    <tr style=\"text-align: right;\">\n",
       "      <th></th>\n",
       "      <th>No</th>\n",
       "      <th>Pembangkit - EBT</th>\n",
       "      <th>Satuan</th>\n",
       "      <th>2021</th>\n",
       "      <th>2022</th>\n",
       "      <th>2023</th>\n",
       "      <th>2024</th>\n",
       "      <th>2025</th>\n",
       "      <th>2026</th>\n",
       "      <th>2027</th>\n",
       "      <th>2028</th>\n",
       "      <th>2029</th>\n",
       "      <th>2030</th>\n",
       "      <th>Jumlah</th>\n",
       "    </tr>\n",
       "  </thead>\n",
       "  <tbody>\n",
       "    <tr>\n",
       "      <th>4</th>\n",
       "      <td>4</td>\n",
       "      <td>PLT Surya</td>\n",
       "      <td>MWp</td>\n",
       "      <td>60</td>\n",
       "      <td>287</td>\n",
       "      <td>1.308</td>\n",
       "      <td>624</td>\n",
       "      <td>1.631</td>\n",
       "      <td>127</td>\n",
       "      <td>148</td>\n",
       "      <td>165</td>\n",
       "      <td>172</td>\n",
       "      <td>157</td>\n",
       "      <td>4.680</td>\n",
       "    </tr>\n",
       "  </tbody>\n",
       "</table>\n",
       "</div>"
      ],
      "text/plain": [
       "0 No Pembangkit - EBT Satuan 2021 2022   2023 2024   2025 2026 2027 2028 2029  \\\n",
       "4  4        PLT Surya    MWp   60  287  1.308  624  1.631  127  148  165  172   \n",
       "\n",
       "0 2030 Jumlah  \n",
       "4  157  4.680  "
      ]
     },
     "execution_count": 33,
     "metadata": {},
     "output_type": "execute_result"
    }
   ],
   "source": [
    "df_rencanaPembangkit"
   ]
  },
  {
   "cell_type": "code",
   "execution_count": 39,
   "id": "e2c0e699",
   "metadata": {},
   "outputs": [
    {
     "name": "stderr",
     "output_type": "stream",
     "text": [
      "C:\\Users\\syahru\\AppData\\Local\\Temp\\ipykernel_5524\\134096622.py:1: SettingWithCopyWarning: \n",
      "A value is trying to be set on a copy of a slice from a DataFrame.\n",
      "Try using .loc[row_indexer,col_indexer] = value instead\n",
      "\n",
      "See the caveats in the documentation: https://pandas.pydata.org/pandas-docs/stable/user_guide/indexing.html#returning-a-view-versus-a-copy\n",
      "  df_rencanaPembangkit['2023'] = 1308\n",
      "C:\\Users\\syahru\\AppData\\Local\\Temp\\ipykernel_5524\\134096622.py:2: SettingWithCopyWarning: \n",
      "A value is trying to be set on a copy of a slice from a DataFrame.\n",
      "Try using .loc[row_indexer,col_indexer] = value instead\n",
      "\n",
      "See the caveats in the documentation: https://pandas.pydata.org/pandas-docs/stable/user_guide/indexing.html#returning-a-view-versus-a-copy\n",
      "  df_rencanaPembangkit['2025'] = 1631\n",
      "C:\\Users\\syahru\\AppData\\Local\\Temp\\ipykernel_5524\\134096622.py:3: SettingWithCopyWarning: \n",
      "A value is trying to be set on a copy of a slice from a DataFrame.\n",
      "Try using .loc[row_indexer,col_indexer] = value instead\n",
      "\n",
      "See the caveats in the documentation: https://pandas.pydata.org/pandas-docs/stable/user_guide/indexing.html#returning-a-view-versus-a-copy\n",
      "  df_rencanaPembangkit['Jumlah'] = 4680\n"
     ]
    }
   ],
   "source": [
    "df_rencanaPembangkit['2023'] = 1308\n",
    "df_rencanaPembangkit['2025'] = 1631\n",
    "df_rencanaPembangkit['Jumlah'] = 4680"
   ]
  },
  {
   "cell_type": "code",
   "execution_count": 55,
   "id": "dfe6802f",
   "metadata": {},
   "outputs": [],
   "source": [
    "# save data to csv\n",
    "# df_rencanaPembangkit.to_csv('Rencana Pengembangan Pembangkit.csv', index=False)"
   ]
  },
  {
   "cell_type": "markdown",
   "id": "eb811003",
   "metadata": {},
   "source": [
    "### Mengambil data rencana tambahan PLTS per region"
   ]
  },
  {
   "cell_type": "code",
   "execution_count": 162,
   "id": "4aed65e1",
   "metadata": {},
   "outputs": [],
   "source": [
    "df_totalTambahanPerProvinsi = pd.read_excel('xeratic data project - total tambahan per provinsi.xlsx', sheet_name= 'tambahan total per pulau')"
   ]
  },
  {
   "cell_type": "code",
   "execution_count": 163,
   "id": "f369fc96",
   "metadata": {},
   "outputs": [
    {
     "data": {
      "text/html": [
       "<div>\n",
       "<style scoped>\n",
       "    .dataframe tbody tr th:only-of-type {\n",
       "        vertical-align: middle;\n",
       "    }\n",
       "\n",
       "    .dataframe tbody tr th {\n",
       "        vertical-align: top;\n",
       "    }\n",
       "\n",
       "    .dataframe thead th {\n",
       "        text-align: right;\n",
       "    }\n",
       "</style>\n",
       "<table border=\"1\" class=\"dataframe\">\n",
       "  <thead>\n",
       "    <tr style=\"text-align: right;\">\n",
       "      <th></th>\n",
       "      <th>Pulau</th>\n",
       "      <th>2021</th>\n",
       "      <th>2022</th>\n",
       "      <th>2023</th>\n",
       "      <th>2024</th>\n",
       "      <th>2025</th>\n",
       "      <th>Jumlah</th>\n",
       "    </tr>\n",
       "  </thead>\n",
       "  <tbody>\n",
       "    <tr>\n",
       "      <th>0</th>\n",
       "      <td>Sumatera</td>\n",
       "      <td>3</td>\n",
       "      <td>6</td>\n",
       "      <td>73</td>\n",
       "      <td>3</td>\n",
       "      <td>87</td>\n",
       "      <td>172</td>\n",
       "    </tr>\n",
       "    <tr>\n",
       "      <th>1</th>\n",
       "      <td>Jawa, Bali, Madura</td>\n",
       "      <td>12</td>\n",
       "      <td>149</td>\n",
       "      <td>277</td>\n",
       "      <td>558</td>\n",
       "      <td>1240</td>\n",
       "      <td>2236</td>\n",
       "    </tr>\n",
       "    <tr>\n",
       "      <th>2</th>\n",
       "      <td>Kalimantan</td>\n",
       "      <td>9</td>\n",
       "      <td>21</td>\n",
       "      <td>139</td>\n",
       "      <td>33</td>\n",
       "      <td>102</td>\n",
       "      <td>304</td>\n",
       "    </tr>\n",
       "    <tr>\n",
       "      <th>3</th>\n",
       "      <td>Sulawesi</td>\n",
       "      <td>7</td>\n",
       "      <td>12</td>\n",
       "      <td>123</td>\n",
       "      <td>12</td>\n",
       "      <td>22</td>\n",
       "      <td>176</td>\n",
       "    </tr>\n",
       "    <tr>\n",
       "      <th>4</th>\n",
       "      <td>Papua, Maluku, Nusa Tenggara</td>\n",
       "      <td>29</td>\n",
       "      <td>100</td>\n",
       "      <td>695</td>\n",
       "      <td>19</td>\n",
       "      <td>180</td>\n",
       "      <td>1023</td>\n",
       "    </tr>\n",
       "  </tbody>\n",
       "</table>\n",
       "</div>"
      ],
      "text/plain": [
       "                          Pulau  2021  2022  2023  2024  2025  Jumlah\n",
       "0                      Sumatera     3     6    73     3    87     172\n",
       "1            Jawa, Bali, Madura    12   149   277   558  1240    2236\n",
       "2                    Kalimantan     9    21   139    33   102     304\n",
       "3                      Sulawesi     7    12   123    12    22     176\n",
       "4  Papua, Maluku, Nusa Tenggara    29   100   695    19   180    1023"
      ]
     },
     "execution_count": 163,
     "metadata": {},
     "output_type": "execute_result"
    }
   ],
   "source": [
    "df_totalTambahanPerProvinsi"
   ]
  },
  {
   "cell_type": "code",
   "execution_count": 166,
   "id": "23db5a69",
   "metadata": {},
   "outputs": [],
   "source": [
    "# save tocsv\n",
    "#df_totalTambahanPerProvinsi.to_csv('tambahan total per pulau.csv', index=False)"
   ]
  },
  {
   "cell_type": "markdown",
   "id": "6d7c73fa",
   "metadata": {},
   "source": [
    "### Membuat dataframe Jumlah PLTS Per provinsi"
   ]
  },
  {
   "cell_type": "code",
   "execution_count": 1,
   "id": "a9aa2d16",
   "metadata": {
    "scrolled": true
   },
   "outputs": [
    {
     "name": "stdout",
     "output_type": "stream",
     "text": [
      "               Provinsi      Kategori Pulau  Jumlah Tambahan PLTS\n",
      "0                  Aceh            Sumatera                   172\n",
      "1                  Bali  Jawa, Bali, Madura                  2236\n",
      "2       Bangka Belitung            Sumatera                   172\n",
      "3                Banten  Jawa, Bali, Madura                  2236\n",
      "4              Bengkulu            Sumatera                   172\n",
      "5             Gorontalo            Sulawesi                   176\n",
      "6          Jakarta Raya  Jawa, Bali, Madura                  2236\n",
      "7                 Jambi            Sumatera                   172\n",
      "8            Jawa Barat  Jawa, Bali, Madura                  2236\n",
      "9           Jawa Tengah  Jawa, Bali, Madura                  2236\n",
      "10           Jawa Timur  Jawa, Bali, Madura                  2236\n",
      "11     Kalimantan Barat          Kalimantan                   304\n",
      "12   Kalimantan Selatan          Kalimantan                   304\n",
      "13    Kalimantan Tengah          Kalimantan                   304\n",
      "14     Kalimantan Timur          Kalimantan                   304\n",
      "15       Kepulauan Riau            Sumatera                   172\n",
      "16              Lampung            Sumatera                   172\n",
      "17               Maluku  Papua, Maluku, NTT                  1023\n",
      "18         Maluku Utara  Papua, Maluku, NTT                  1023\n",
      "19  Nusa Tenggara Barat  Papua, Maluku, NTT                  1023\n",
      "20  Nusa Tenggara Timur  Papua, Maluku, NTT                  1023\n",
      "21                Papua  Papua, Maluku, NTT                  1023\n",
      "22          Papua Barat  Papua, Maluku, NTT                  1023\n",
      "23                 Riau            Sumatera                   172\n",
      "24       Sulawesi Barat            Sulawesi                   176\n",
      "25     Sulawesi Selatan            Sulawesi                   176\n",
      "26      Sulawesi Tengah            Sulawesi                   176\n",
      "27    Sulawesi Tenggara            Sulawesi                   176\n",
      "28       Sulawesi Utara            Sulawesi                   176\n",
      "29       Sumatera Barat            Sumatera                   172\n",
      "30     Sumatera Selatan            Sumatera                   172\n",
      "31       Sumatera Utara            Sumatera                   172\n",
      "32           Yogyakarta  Jawa, Bali, Madura                  2236\n"
     ]
    }
   ],
   "source": [
    "# Membuat list provinsi\n",
    "provinsi = [\n",
    "    'Aceh', 'Bali', 'Bangka Belitung', 'Banten', 'Bengkulu', 'Gorontalo', 'Jakarta Raya',\n",
    "    'Jambi', 'Jawa Barat', 'Jawa Tengah', 'Jawa Timur', 'Kalimantan Barat', 'Kalimantan Selatan',\n",
    "    'Kalimantan Tengah', 'Kalimantan Timur', 'Kepulauan Riau', 'Lampung', 'Maluku', 'Maluku Utara',\n",
    "    'Nusa Tenggara Barat', 'Nusa Tenggara Timur', 'Papua', 'Papua Barat', 'Riau', 'Sulawesi Barat',\n",
    "    'Sulawesi Selatan', 'Sulawesi Tengah', 'Sulawesi Tenggara', 'Sulawesi Utara', 'Sumatera Barat',\n",
    "    'Sumatera Selatan', 'Sumatera Utara', 'Yogyakarta'\n",
    "]\n",
    "\n",
    "# Membuat DataFrame\n",
    "df = pd.DataFrame({'Provinsi': provinsi})\n",
    "\n",
    "# Fungsi untuk menentukan kategori pulau berdasarkan provinsi\n",
    "def kategori_pulau(provinsi):\n",
    "    sumatera = ['Aceh', 'Sumatera Utara', 'Sumatera Barat', 'Riau', 'Kepulauan Riau', 'Jambi', 'Bengkulu', 'Sumatera Selatan', 'Bangka Belitung', 'Lampung']\n",
    "    jawa_bali_madura = ['Banten', 'Jakarta Raya', 'Jawa Barat', 'Jawa Tengah', 'Yogyakarta', 'Jawa Timur','Bali']\n",
    "    kalimantan = ['Kalimantan Tengah', 'Kalimantan Timur', 'Kalimantan Selatan', 'Kalimantan Barat', 'Kalimantan Utara']\n",
    "    sulawesi = ['Sulawesi Utara', 'Gorontalo', 'Sulawesi Selatan', 'Sulawesi Tengah', 'Sulawesi Tenggara', 'Sulawesi Barat']\n",
    "    papua_maluku_ntt = ['Papua Tengah', 'Papua Pegunungan', 'Papua Selatan', 'Papua Barat Daya','Papua','Papua Barat' ,'Nusa Tenggara Barat', 'Nusa Tenggara Timur', 'Maluku', 'Maluku Utara']\n",
    "\n",
    "    if provinsi in sumatera:\n",
    "        return 'Sumatera'\n",
    "    elif provinsi in jawa_bali_madura:\n",
    "        return 'Jawa, Bali, Madura'\n",
    "    elif provinsi in kalimantan:\n",
    "        return 'Kalimantan'\n",
    "    elif provinsi in sulawesi:\n",
    "        return 'Sulawesi'\n",
    "    elif provinsi in papua_maluku_ntt:\n",
    "        return 'Papua, Maluku, NTT'\n",
    "    else:\n",
    "        return 'Lainnya'\n",
    "\n",
    "# Menambahkan kolom \"Kategori Pulau\" ke DataFrame\n",
    "df['Kategori Pulau'] = df['Provinsi'].apply(kategori_pulau)\n",
    "\n",
    "# Menentukan \"Jumlah Tambahan PLTS\" berdasarkan kategori pulau\n",
    "df['Jumlah Tambahan PLTS'] = df['Kategori Pulau'].map({\n",
    "    'Sumatera': 172,\n",
    "    'Jawa, Bali, Madura': 2236,\n",
    "    'Kalimantan': 304,\n",
    "    'Sulawesi': 176,\n",
    "    'Papua, Maluku, NTT': 1023,\n",
    "    'Lainnya': 0  # Jika provinsi tidak masuk dalam kategori di atas\n",
    "})\n",
    "\n",
    "# Mencetak DataFrame yang telah diubah\n",
    "print(df)\n"
   ]
  },
  {
   "cell_type": "code",
   "execution_count": 2,
   "id": "8d226e1f",
   "metadata": {},
   "outputs": [],
   "source": [
    "# save data to csv\n",
    "#df.to_csv('Provinsi.csv', index=False)"
   ]
  },
  {
   "cell_type": "markdown",
   "id": "c5995a72",
   "metadata": {},
   "source": [
    "### Mengambil data ketersediaan lahan hutan per provinsi"
   ]
  },
  {
   "cell_type": "code",
   "execution_count": 3,
   "id": "08c82c9c",
   "metadata": {},
   "outputs": [],
   "source": [
    "df_lahan = pd.read_excel('Xeratic project - luas lahan.xlsx', sheet_name='ketersediaan lahan hutan')"
   ]
  },
  {
   "cell_type": "markdown",
   "id": "2ca24939",
   "metadata": {},
   "source": [
    "Pemanfaatan lahan untuk PLTS diasumsikan menggunakan lahan kosong yang tersedia di setiap provinsi, yang berasal dari 1% luas hutan di setiap provinsi"
   ]
  },
  {
   "cell_type": "code",
   "execution_count": 5,
   "id": "b754fed3",
   "metadata": {},
   "outputs": [],
   "source": [
    "df_lahan['Potensi lahan PLTS'] = df_lahan['Luas Hutan (ha)']*1/100"
   ]
  },
  {
   "cell_type": "code",
   "execution_count": 7,
   "id": "da257644",
   "metadata": {},
   "outputs": [],
   "source": [
    "df_lahan['Provinsi'] = df_lahan['Provinsi'].str.title()"
   ]
  },
  {
   "cell_type": "code",
   "execution_count": 8,
   "id": "dfd86fc0",
   "metadata": {},
   "outputs": [],
   "source": [
    "# Buat kamus untuk mengganti nama beberapa baris berdasarkan label\n",
    "provinsi_baru = {\n",
    "    'Dki Jakarta': 'Jakarta Raya',\n",
    "    'Kep. Riau': 'Kepulauan Riau',\n",
    "    'Kep. Bangka Belitung': 'Bangka Belitung',\n",
    "    'Di Yogyakarta': 'Yogyakarta',    \n",
    "}\n",
    "\n",
    "# Gunakan metode rename() untuk mengganti nama baris berdasarkan label\n",
    "df_lahan['Provinsi'] = df_lahan['Provinsi'].replace(provinsi_baru)"
   ]
  },
  {
   "cell_type": "code",
   "execution_count": 9,
   "id": "2185698a",
   "metadata": {},
   "outputs": [],
   "source": [
    "# Identifikasi baris yang ingin dihapus berdasarkan indeksnya\n",
    "baris_yang_dihapus = [23, 34]\n",
    "\n",
    "# # Gunakan metode drop() untuk menghapus baris\n",
    "df_lahan = df_lahan.drop(labels=baris_yang_dihapus)"
   ]
  },
  {
   "cell_type": "markdown",
   "id": "1fc15fa3",
   "metadata": {},
   "source": [
    "konversi lahan ke potensi luas plts berdasarkan spesifikasi panel surya: \n",
    "1 MW = 1,5 Ha"
   ]
  },
  {
   "cell_type": "code",
   "execution_count": 11,
   "id": "38fa284a",
   "metadata": {},
   "outputs": [],
   "source": [
    "df_lahan['Potensi Kapasitas PLTS berdasarkan luas lahan (MW)'] = df_lahan['Potensi lahan PLTS']/1.5"
   ]
  },
  {
   "cell_type": "code",
   "execution_count": 16,
   "id": "5e2c9891",
   "metadata": {},
   "outputs": [],
   "source": [
    "# save data to csv\n",
    "# df_lahan.to_csv('Potensi luas lahan.csv', index=False)"
   ]
  }
 ],
 "metadata": {
  "kernelspec": {
   "display_name": "Python 3 (ipykernel)",
   "language": "python",
   "name": "python3"
  },
  "language_info": {
   "codemirror_mode": {
    "name": "ipython",
    "version": 3
   },
   "file_extension": ".py",
   "mimetype": "text/x-python",
   "name": "python",
   "nbconvert_exporter": "python",
   "pygments_lexer": "ipython3",
   "version": "3.10.9"
  }
 },
 "nbformat": 4,
 "nbformat_minor": 5
}
